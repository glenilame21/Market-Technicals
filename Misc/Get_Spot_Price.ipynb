{
 "cells": [
  {
   "cell_type": "code",
   "execution_count": 1,
   "metadata": {},
   "outputs": [],
   "source": [
    "import requests\n",
    "#from Generate_New_Token import new_token\n",
    "#from CheckToken import is_token_valid"
   ]
  },
  {
   "cell_type": "code",
   "execution_count": 2,
   "metadata": {},
   "outputs": [],
   "source": [
    "#Read token from file\n",
    "with open('access_token.txt', 'r') as f:\n",
    "    token = f.read().strip()"
   ]
  },
  {
   "cell_type": "code",
   "execution_count": 3,
   "metadata": {},
   "outputs": [
    {
     "data": {
      "text/plain": [
       "'4MixNSzozj5CoqKT5Q7oneVOrVXWeabNehp-pFMQS54YSkDDypdYD7if6gwCjfl6tl5DtYBZ3pZ8PFUeGiKyAYxSE_F5XZLA-_KSf07W-UnBZzj5oI4bRnr0H4aXrqm9d7jo22Lu90ujFl69dLXgOKsw27sGTzlqHmmo3Z5DzZzQdSfpuyF-32ECMtB6hbM6PBAwlg4nrKZ9m3ORdzSHzDfFnEWSIF4-mzuwxHsgjCu9W1hlUhn08y61vSVsozVn6uYfypf9Q56Ali2T9cQEUNf9SAGAP5T7urV9siqMah9PvPRMwOxfXLRH3xtTv5h_Dt7IfYqWCwyxvrGkGmG5COI1u2dF850ZMxKZng6JwAZjBkKLF6awV1HeimEq3WAgsiiDlvKYL8p4_-Hq6Q-ZLy1ZvDbyj0SMpaXzCN7je7w'"
      ]
     },
     "execution_count": 3,
     "metadata": {},
     "output_type": "execute_result"
    }
   ],
   "source": [
    "token"
   ]
  },
  {
   "cell_type": "code",
   "execution_count": 4,
   "metadata": {},
   "outputs": [],
   "source": [
    "def get_spot_data(spot_key, fields, from_date, to_date, currency):\n",
    "    \n",
    "    # headers\n",
    "    headers = {\n",
    "        'Authorization': f'Bearer {token}',\n",
    "        'AcceptEncoding': 'deflate' \n",
    "    }\n",
    "\n",
    "    # Construct URL\n",
    "    url = f\"https://api.montelnews.com/spot/getprices?SpotKey={spot_key}&Fields={fields}&FromDate={from_date}&ToDate={to_date}&Currency={currency}&SortType=ascending\"\n",
    "    \n",
    "    # Make the request\n",
    "    response = requests.get(url, headers=headers, verify=False)\n",
    "\n",
    "    if response.status_code == 200:\n",
    "        data = response.json()\n",
    "        if 'Elements' in data and isinstance(data['Elements'], list):\n",
    "            return data['Elements']\n",
    "        else:\n",
    "            print(\"Unexpected JSON structure\")\n",
    "            return None\n",
    "    else :\n",
    "        print(\"Error: \", response.status_code)\n",
    "        return None"
   ]
  },
  {
   "cell_type": "code",
   "execution_count": 5,
   "metadata": {},
   "outputs": [
    {
     "name": "stderr",
     "output_type": "stream",
     "text": [
      "c:\\Users\\Z_LAME\\Desktop\\Crawler\\MontelScraperENV\\Lib\\site-packages\\urllib3\\connectionpool.py:1099: InsecureRequestWarning: Unverified HTTPS request is being made to host 'api.montelnews.com'. Adding certificate verification is strongly advised. See: https://urllib3.readthedocs.io/en/latest/advanced-usage.html#tls-warnings\n",
      "  warnings.warn(\n"
     ]
    }
   ],
   "source": [
    "glenitest = get_spot_data('2', 'hours', '2018-01-01', '2023-01-01', 'eur')"
   ]
  },
  {
   "cell_type": "code",
   "execution_count": 13,
   "metadata": {},
   "outputs": [],
   "source": [
    "glenitest = glenitest[0]"
   ]
  },
  {
   "cell_type": "code",
   "execution_count": 14,
   "metadata": {},
   "outputs": [
    {
     "data": {
      "text/plain": [
       "{'Date': '2018-01-01T00:00:00.0000000',\n",
       " 'TimeSpans': [{'TimeSpan': '00:00-01:00', 'Value': 14.16},\n",
       "  {'TimeSpan': '01:00-02:00', 'Value': 4.74},\n",
       "  {'TimeSpan': '02:00-03:00', 'Value': 3.66},\n",
       "  {'TimeSpan': '03:00-04:00', 'Value': 1.26},\n",
       "  {'TimeSpan': '04:00-05:00', 'Value': -20.1},\n",
       "  {'TimeSpan': '05:00-06:00', 'Value': -31.82},\n",
       "  {'TimeSpan': '06:00-07:00', 'Value': -28.66},\n",
       "  {'TimeSpan': '07:00-08:00', 'Value': -13.71},\n",
       "  {'TimeSpan': '08:00-09:00', 'Value': -19.33},\n",
       "  {'TimeSpan': '09:00-10:00', 'Value': -15.78},\n",
       "  {'TimeSpan': '10:00-11:00', 'Value': -12.05},\n",
       "  {'TimeSpan': '11:00-12:00', 'Value': -0.42},\n",
       "  {'TimeSpan': '12:00-13:00', 'Value': 2.3},\n",
       "  {'TimeSpan': '13:00-14:00', 'Value': 2.3},\n",
       "  {'TimeSpan': '14:00-15:00', 'Value': 13.76},\n",
       "  {'TimeSpan': '15:00-16:00', 'Value': 15.43},\n",
       "  {'TimeSpan': '16:00-17:00', 'Value': 25.46},\n",
       "  {'TimeSpan': '17:00-18:00', 'Value': 32.7},\n",
       "  {'TimeSpan': '18:00-19:00', 'Value': 32.7},\n",
       "  {'TimeSpan': '19:00-20:00', 'Value': 23.42},\n",
       "  {'TimeSpan': '20:00-21:00', 'Value': 20.34},\n",
       "  {'TimeSpan': '21:00-22:00', 'Value': 21.95},\n",
       "  {'TimeSpan': '22:00-23:00', 'Value': 23.52},\n",
       "  {'TimeSpan': '23:00-24:00', 'Value': 16.35}]}"
      ]
     },
     "execution_count": 14,
     "metadata": {},
     "output_type": "execute_result"
    }
   ],
   "source": [
    "glenitest"
   ]
  },
  {
   "cell_type": "code",
   "execution_count": null,
   "metadata": {},
   "outputs": [],
   "source": []
  }
 ],
 "metadata": {
  "kernelspec": {
   "display_name": "MontelScraperENV",
   "language": "python",
   "name": "python3"
  },
  "language_info": {
   "codemirror_mode": {
    "name": "ipython",
    "version": 3
   },
   "file_extension": ".py",
   "mimetype": "text/x-python",
   "name": "python",
   "nbconvert_exporter": "python",
   "pygments_lexer": "ipython3",
   "version": "3.12.3"
  }
 },
 "nbformat": 4,
 "nbformat_minor": 2
}
